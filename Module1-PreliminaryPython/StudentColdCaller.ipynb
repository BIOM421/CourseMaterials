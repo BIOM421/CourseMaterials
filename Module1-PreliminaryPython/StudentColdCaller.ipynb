{
 "cells": [
  {
   "cell_type": "code",
   "execution_count": 2,
   "metadata": {},
   "outputs": [
    {
     "name": "stdout",
     "output_type": "stream",
     "text": [
      "['Shelby Ardehali', 'Becca Balliew', 'Shelby Bauer', 'Sarah Bermingham', 'Nicole Blais', 'Carley Boulger', 'Cassandra Buffington', 'Alex Cerullo', 'Mikayla Cox', 'Alex David', 'Zoe Fiedler', 'Lauren Frueh', 'Keigan Garrity', 'Sydney Graul', 'Ethan Harrell', 'Kanita Hrustanovic', 'Zabiba Husen', 'Austin Jones', 'Mitchell Knutsen', 'Isabelle Lemma', 'Sherly Manoharan', 'Mark Metheny', 'Anika OBrian', 'Abbie Tangen', 'Vivia Van De Mark']\n"
     ]
    }
   ],
   "source": [
    "from biom421 import codes\n",
    "import numpy as np\n",
    "students = codes.spring2024Students()\n",
    "print(students)\n",
    "probs = np.ones(len(students))"
   ]
  },
  {
   "cell_type": "code",
   "execution_count": 6,
   "metadata": {},
   "outputs": [
    {
     "name": "stdout",
     "output_type": "stream",
     "text": [
      "Isabelle Lemma\n"
     ]
    }
   ],
   "source": [
    "student, index = codes.chooseMember(students, probs)\n",
    "print(student)"
   ]
  },
  {
   "cell_type": "code",
   "execution_count": 7,
   "metadata": {},
   "outputs": [],
   "source": [
    "# Correct - Silence Next Call\n",
    "probs[index] = probs[index]/3"
   ]
  },
  {
   "cell_type": "code",
   "execution_count": null,
   "metadata": {},
   "outputs": [],
   "source": [
    "# Pass - Amplify Next Call\n",
    "probs[index] = probs[index]*3"
   ]
  }
 ],
 "metadata": {
  "kernelspec": {
   "display_name": "biom421mac_env",
   "language": "python",
   "name": "python3"
  },
  "language_info": {
   "codemirror_mode": {
    "name": "ipython",
    "version": 3
   },
   "file_extension": ".py",
   "mimetype": "text/x-python",
   "name": "python",
   "nbconvert_exporter": "python",
   "pygments_lexer": "ipython3",
   "version": "3.11.5"
  }
 },
 "nbformat": 4,
 "nbformat_minor": 2
}
